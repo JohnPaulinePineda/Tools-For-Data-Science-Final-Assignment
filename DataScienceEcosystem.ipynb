{
 "cells": [
  {
   "cell_type": "markdown",
   "id": "38a58718",
   "metadata": {},
   "source": [
    "### Exercise 1: Create a Jupyter Notebook"
   ]
  },
  {
   "cell_type": "markdown",
   "id": "6fb4eddc",
   "metadata": {},
   "source": [
    "A **'DataScienceEcosystem.ipynb'** file was created."
   ]
  },
  {
   "cell_type": "markdown",
   "id": "7ad7ef90",
   "metadata": {},
   "source": [
    "### Exercise 2: Create markdown cell with title of the notebook"
   ]
  },
  {
   "cell_type": "markdown",
   "id": "d47bfb94",
   "metadata": {},
   "source": [
    "*An entry entitled* ***'Data Science Tools and Ecosystem'*** *was updated into a markdown cell.*"
   ]
  },
  {
   "cell_type": "markdown",
   "id": "b6b53299",
   "metadata": {},
   "source": [
    "# Data Science Tools and Ecosystem"
   ]
  },
  {
   "cell_type": "markdown",
   "id": "f6e9376c",
   "metadata": {},
   "source": [
    "### Exercise 3: Create a markdown cell for an introduction"
   ]
  },
  {
   "cell_type": "markdown",
   "id": "945939cc",
   "metadata": {},
   "source": [
    "*An entry entitled* ***'In this notebook, Data Science Tools and Ecosystem are summarized.'*** *was updated into a markdown cell.*"
   ]
  },
  {
   "cell_type": "markdown",
   "id": "59b11b45",
   "metadata": {},
   "source": [
    "In this notebook, Data Science Tools and Ecosystem are summarized."
   ]
  },
  {
   "cell_type": "markdown",
   "id": "90aa2767",
   "metadata": {},
   "source": [
    "###  Exercise 4: Create a markdown cell to list data science languages."
   ]
  },
  {
   "cell_type": "markdown",
   "id": "832b7acc",
   "metadata": {},
   "source": [
    "*A list of ordered entries composed of popular languages that data scientists use was updated in a markdown cell.*"
   ]
  },
  {
   "cell_type": "markdown",
   "id": "4051ea01",
   "metadata": {},
   "source": [
    "Some of the popular languages that Data Scientists use are:\n",
    "1. Python\n",
    "2. R\n",
    "3. SQL\n",
    "4. Java\n",
    "5. Julia\n",
    "6. Scala\n",
    "7. C/C++\n",
    "8. JavaScript"
   ]
  },
  {
   "cell_type": "markdown",
   "id": "e3d8a7e6",
   "metadata": {},
   "source": [
    "### Exercise 5: Create a markdown cell to list data science libraries"
   ]
  },
  {
   "cell_type": "markdown",
   "id": "8ec8ee47",
   "metadata": {},
   "source": [
    "*A list of ordered entries composed of commonly used libraries that data scientists use was updated in a markdown cell.*"
   ]
  },
  {
   "cell_type": "markdown",
   "id": "2c400eca",
   "metadata": {},
   "source": [
    "Some of the commonly used libraries used by Data Scientists include:\n",
    "1. TensorFlow\n",
    "2. NumPy\n",
    "3. SciPy\n",
    "4. Pandas\n",
    "5. Matplotlib\n",
    "6. Keras\n",
    "7. SciKit-Learn\n",
    "8. PyTorch"
   ]
  },
  {
   "cell_type": "markdown",
   "id": "46502190",
   "metadata": {},
   "source": [
    "### Exercise 6: Create a markdown cell with a table of Data Science tools"
   ]
  },
  {
   "cell_type": "markdown",
   "id": "251dd49d",
   "metadata": {},
   "source": [
    "*A single column table of entries composed of development environment open source tools used in data science was updated in a markdown cell.*"
   ]
  },
  {
   "cell_type": "markdown",
   "id": "c016fc86",
   "metadata": {},
   "source": [
    "| <div style=\"width:290px;float:left;\" > Data Science Tools </div>|\n",
    "| :-----------       |\n",
    "| RStudio            |\n",
    "| Jupyter Notebook   |\n",
    "| VS Code            |"
   ]
  },
  {
   "cell_type": "code",
   "execution_count": 67,
   "id": "f2c81953",
   "metadata": {},
   "outputs": [
    {
     "data": {
      "text/html": [
       "<style>\n",
       "table {float:left}\n",
       "</style>\n"
      ],
      "text/plain": [
       "<IPython.core.display.HTML object>"
      ]
     },
     "metadata": {},
     "output_type": "display_data"
    }
   ],
   "source": [
    "%%html\n",
    "<style>\n",
    "table {float:left}\n",
    "</style>"
   ]
  },
  {
   "cell_type": "markdown",
   "id": "544241ea",
   "metadata": {},
   "source": [
    "###  Exercise 7: Create a markdown cell introducing arithmetic expression examples"
   ]
  },
  {
   "cell_type": "markdown",
   "id": "2a3ccaf1",
   "metadata": {},
   "source": [
    "*An entry entitled* ***'Below are a few examples of evaluating arithmetic expressions in Python'*** * using an H3 style heading was updated in a markdown cell.*"
   ]
  },
  {
   "cell_type": "markdown",
   "id": "230c40ea",
   "metadata": {},
   "source": [
    "### Below are a few examples of evaluating arithmetic expressions in Python"
   ]
  },
  {
   "cell_type": "markdown",
   "id": "ee2e6188",
   "metadata": {},
   "source": [
    "###  Exercise 8: Create a code cell to multiply and add numbers"
   ]
  },
  {
   "cell_type": "markdown",
   "id": "fa0b834b",
   "metadata": {},
   "source": [
    "*A comment line and an expression to multiply and add numbers were updated in a code cell.*"
   ]
  },
  {
   "cell_type": "code",
   "execution_count": 68,
   "id": "ea975cb2",
   "metadata": {},
   "outputs": [
    {
     "data": {
      "text/plain": [
       "17"
      ]
     },
     "execution_count": 68,
     "metadata": {},
     "output_type": "execute_result"
    }
   ],
   "source": [
    "# This a simple arithmetic expression to mutiply then add integers\n",
    "(3*4)+5"
   ]
  },
  {
   "cell_type": "markdown",
   "id": "393e9180",
   "metadata": {},
   "source": [
    "###  Exercise 9: Create a code cell to convert minutes to hours"
   ]
  },
  {
   "cell_type": "markdown",
   "id": "0510728f",
   "metadata": {},
   "source": [
    "*A comment line and an expression to convert minutes to hours were updated in a code cell.*"
   ]
  },
  {
   "cell_type": "code",
   "execution_count": 69,
   "id": "4ae2be9a",
   "metadata": {},
   "outputs": [
    {
     "name": "stdout",
     "output_type": "stream",
     "text": [
      "3.3333333333333335\n",
      "A time equal to 200 minutes is equivalent to 3.3333333333333335 hours.\n"
     ]
    }
   ],
   "source": [
    "# This will convert 200 minutes to hours by diving by 60\n",
    "minutes = 200\n",
    "hours = minutes/60\n",
    "print(hours)\n",
    "print(\"A time equal to \" + str(minutes) + \" minutes is equivalent to \" + str(hours) + \" hours.\")"
   ]
  },
  {
   "cell_type": "markdown",
   "id": "a0887422",
   "metadata": {},
   "source": [
    "###  Exercise 10: Insert a markdown cell to list Objectives"
   ]
  },
  {
   "cell_type": "markdown",
   "id": "2c79af40",
   "metadata": {},
   "source": [
    "*A list of unordered entries composed of objectives covered in the notebook exercise was updated in a markdown cell.*"
   ]
  },
  {
   "cell_type": "markdown",
   "id": "f24462ae",
   "metadata": {},
   "source": [
    "**Objectives:**\n",
    "- Summarize different data science tools and ecosystems\n",
    "- List commonly used languages for data science\n",
    "- List commonly used libraries in data science\n",
    "- List development environment open source tools used in data science"
   ]
  },
  {
   "cell_type": "markdown",
   "id": "1d8d7045",
   "metadata": {},
   "source": [
    "###  Exercise 11: Create a markdown cell to indicate the Author's name"
   ]
  },
  {
   "cell_type": "markdown",
   "id": "1f47e88f",
   "metadata": {},
   "source": [
    "*An entry entitled 'Author' using an H2 style heading and the author's name in regular text were updated in a markdown cell.*"
   ]
  },
  {
   "cell_type": "markdown",
   "id": "b89a693b",
   "metadata": {},
   "source": [
    "## Author\n",
    "John Pauline Pineda"
   ]
  },
  {
   "cell_type": "markdown",
   "id": "75d3669b",
   "metadata": {},
   "source": [
    "### Exercise 12: Share your notebook through GitHub"
   ]
  },
  {
   "cell_type": "markdown",
   "id": "6569a99e",
   "metadata": {},
   "source": [
    "The completed **'DataScienceEcosystem.ipynb'** file was uploaded to a github repository entitled [Tools-For-Data-Science-Final-Assignment](https://github.com/JohnPaulinePineda/Tools-For-Data-Science-Final-Assignment) under the author's [github account](https://github.com/JohnPaulinePineda)."
   ]
  },
  {
   "cell_type": "markdown",
   "id": "11c22e1c",
   "metadata": {},
   "source": [
    "###  Exercise 13: Take a screenshot of the first page of the notebook"
   ]
  },
  {
   "cell_type": "markdown",
   "id": "0dffdf38",
   "metadata": {},
   "source": [
    "The screenshot of the entire completed notebook was captured."
   ]
  }
 ],
 "metadata": {
  "kernelspec": {
   "display_name": "Python 3 (ipykernel)",
   "language": "python",
   "name": "python3"
  },
  "language_info": {
   "codemirror_mode": {
    "name": "ipython",
    "version": 3
   },
   "file_extension": ".py",
   "mimetype": "text/x-python",
   "name": "python",
   "nbconvert_exporter": "python",
   "pygments_lexer": "ipython3",
   "version": "3.11.4"
  }
 },
 "nbformat": 4,
 "nbformat_minor": 5
}
